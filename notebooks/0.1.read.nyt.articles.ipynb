{
 "cells": [
  {
   "cell_type": "code",
   "execution_count": null,
   "metadata": {},
   "outputs": [],
   "source": [
    "import os, inspect, sys\n",
    "import json\n",
    "\n",
    "CURRENT_DIR = os.path.dirname(inspect.getabsfile(inspect.currentframe()))\n",
    "ROOT_DIR = os.path.dirname(CURRENT_DIR)\n",
    "sys.path.insert(0, ROOT_DIR)\n",
    "\n",
    "from reb.src import pynyt\n",
    "from reb.conf import APIKEY_NYT_ARTICLE"
   ]
  },
  {
   "cell_type": "code",
   "execution_count": null,
   "metadata": {},
   "outputs": [],
   "source": [
    "nytArticle = pynyt.ArticleSearch(APIKEY_NYT_ARTICLE)\n",
    "nytArchive = pynyt.ArchiveApi(APIKEY_NYT_ARTICLE)\n",
    "# get 1000 news articles from the Foreign newsdesk from 1987\n",
    "# results_obama = nyt.query(\n",
    "#     q='war',\n",
    "#     begin_date=\"20170101\",\n",
    "#     end_date=\"20170102\",\n",
    "#     # facet_field=['source', 'day_of_week'],\n",
    "#     # facet_filter = True,\n",
    "#     verbose=True)\n",
    "\n",
    "for year in range(1980, 2001):\n",
    "    for month in range(1, 13):\n",
    "        print(f\"--> Reading NYT archives for {year}-{month}\")\n",
    "        arch = nytArchive.query(\n",
    "            year=year,\n",
    "            month=month\n",
    "        )\n",
    "        \n",
    "        fname = f\"nyt-arch-{year}-{month}.json\"\n",
    "        path = os.path.join(ROOT_DIR, \"reb\", \"data\", \"raw\")\n",
    "        ffname = os.path.join(path, fname)\n",
    "        with open(ffname, \"w\") as fp:\n",
    "            json.dump(arch, fp)\n",
    "            print(f\"--> Writing to '{fname}' at {path}\")"
   ]
  },
  {
   "cell_type": "code",
   "execution_count": null,
   "metadata": {},
   "outputs": [],
   "source": []
  },
  {
   "cell_type": "code",
   "execution_count": null,
   "metadata": {},
   "outputs": [],
   "source": []
  },
  {
   "cell_type": "code",
   "execution_count": null,
   "metadata": {},
   "outputs": [],
   "source": []
  },
  {
   "cell_type": "code",
   "execution_count": null,
   "metadata": {},
   "outputs": [],
   "source": []
  }
 ],
 "metadata": {
  "kernelspec": {
   "display_name": "Python [conda env:reb]",
   "language": "python",
   "name": "conda-env-reb-py"
  },
  "language_info": {
   "codemirror_mode": {
    "name": "ipython",
    "version": 3
   },
   "file_extension": ".py",
   "mimetype": "text/x-python",
   "name": "python",
   "nbconvert_exporter": "python",
   "pygments_lexer": "ipython3",
   "version": "3.6.6"
  }
 },
 "nbformat": 4,
 "nbformat_minor": 2
}
