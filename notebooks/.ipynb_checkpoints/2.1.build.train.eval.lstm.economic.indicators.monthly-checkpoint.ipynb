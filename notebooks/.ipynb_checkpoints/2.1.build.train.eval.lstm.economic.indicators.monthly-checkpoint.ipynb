{
 "cells": [
  {
   "cell_type": "code",
   "execution_count": 1,
   "metadata": {},
   "outputs": [
    {
     "name": "stderr",
     "output_type": "stream",
     "text": [
      "Using TensorFlow backend.\n"
     ]
    }
   ],
   "source": [
    "import os, inspect, sys\n",
    "import pandas as pd\n",
    "import numpy as np\n",
    "import matplotlib.pyplot as plt\n",
    "import seaborn as sns\n",
    "from pprint import pprint\n",
    "\n",
    "from sklearn.preprocessing import MinMaxScaler\n",
    "from sklearn.metrics import mean_squared_error\n",
    "from keras.models import Sequential\n",
    "from keras.layers import Dense\n",
    "from keras.layers import LSTM\n",
    "\n",
    "CURRENT_DIR = os.path.dirname(inspect.getabsfile(inspect.currentframe()))\n",
    "ROOT_DIR = os.path.dirname(CURRENT_DIR)\n",
    "sys.path.insert(0, ROOT_DIR)\n",
    "\n",
    "from reb.src.pyts import series_to_supervised"
   ]
  },
  {
   "cell_type": "code",
   "execution_count": 2,
   "metadata": {},
   "outputs": [],
   "source": [
    "ffname = os.path.join(ROOT_DIR, \"reb\", \"data\", \"ext\", \"data_monthly_processed.csv\")"
   ]
  },
  {
   "cell_type": "code",
   "execution_count": 3,
   "metadata": {},
   "outputs": [
    {
     "data": {
      "text/html": [
       "<div>\n",
       "<style scoped>\n",
       "    .dataframe tbody tr th:only-of-type {\n",
       "        vertical-align: middle;\n",
       "    }\n",
       "\n",
       "    .dataframe tbody tr th {\n",
       "        vertical-align: top;\n",
       "    }\n",
       "\n",
       "    .dataframe thead th {\n",
       "        text-align: right;\n",
       "    }\n",
       "</style>\n",
       "<table border=\"1\" class=\"dataframe\">\n",
       "  <thead>\n",
       "    <tr style=\"text-align: right;\">\n",
       "      <th></th>\n",
       "      <th>DATE</th>\n",
       "      <th>PAYEMS</th>\n",
       "      <th>USPRIV</th>\n",
       "      <th>AWHNONAG</th>\n",
       "      <th>CES9091000001</th>\n",
       "      <th>USGOVT</th>\n",
       "      <th>UNEMPLOY</th>\n",
       "      <th>LNS13023622</th>\n",
       "      <th>LNS13023706</th>\n",
       "      <th>LNS13023654</th>\n",
       "      <th>LNS13026511</th>\n",
       "      <th>MVPHGFD027MNFRBDAL</th>\n",
       "      <th>MORTGAGE30US</th>\n",
       "      <th>MORTGAGE15US</th>\n",
       "      <th>DGS10</th>\n",
       "      <th>INDPRO</th>\n",
       "      <th>W875RX1</th>\n",
       "    </tr>\n",
       "  </thead>\n",
       "  <tbody>\n",
       "    <tr>\n",
       "      <th>0</th>\n",
       "      <td>1992-01-01</td>\n",
       "      <td>108374</td>\n",
       "      <td>89686</td>\n",
       "      <td>34.1</td>\n",
       "      <td>3137</td>\n",
       "      <td>18688</td>\n",
       "      <td>9283</td>\n",
       "      <td>54.0</td>\n",
       "      <td>11.9</td>\n",
       "      <td>13.1</td>\n",
       "      <td>40.9</td>\n",
       "      <td>2719.3</td>\n",
       "      <td>8.4</td>\n",
       "      <td>8.0</td>\n",
       "      <td>7.0</td>\n",
       "      <td>63.3372</td>\n",
       "      <td>6840.9</td>\n",
       "    </tr>\n",
       "    <tr>\n",
       "      <th>1</th>\n",
       "      <td>1992-02-01</td>\n",
       "      <td>108317</td>\n",
       "      <td>89628</td>\n",
       "      <td>34.1</td>\n",
       "      <td>3121</td>\n",
       "      <td>18689</td>\n",
       "      <td>9454</td>\n",
       "      <td>57.0</td>\n",
       "      <td>9.8</td>\n",
       "      <td>13.6</td>\n",
       "      <td>43.3</td>\n",
       "      <td>2738.8</td>\n",
       "      <td>8.8</td>\n",
       "      <td>8.4</td>\n",
       "      <td>7.3</td>\n",
       "      <td>63.7864</td>\n",
       "      <td>6879.1</td>\n",
       "    </tr>\n",
       "    <tr>\n",
       "      <th>2</th>\n",
       "      <td>1992-03-01</td>\n",
       "      <td>108369</td>\n",
       "      <td>89654</td>\n",
       "      <td>34.1</td>\n",
       "      <td>3121</td>\n",
       "      <td>18715</td>\n",
       "      <td>9460</td>\n",
       "      <td>57.4</td>\n",
       "      <td>9.5</td>\n",
       "      <td>13.4</td>\n",
       "      <td>44.0</td>\n",
       "      <td>2760.5</td>\n",
       "      <td>8.9</td>\n",
       "      <td>8.6</td>\n",
       "      <td>7.5</td>\n",
       "      <td>64.3199</td>\n",
       "      <td>6884.7</td>\n",
       "    </tr>\n",
       "    <tr>\n",
       "      <th>3</th>\n",
       "      <td>1992-04-01</td>\n",
       "      <td>108526</td>\n",
       "      <td>89787</td>\n",
       "      <td>34.3</td>\n",
       "      <td>3117</td>\n",
       "      <td>18739</td>\n",
       "      <td>9415</td>\n",
       "      <td>57.3</td>\n",
       "      <td>10.4</td>\n",
       "      <td>13.6</td>\n",
       "      <td>43.8</td>\n",
       "      <td>2764.0</td>\n",
       "      <td>8.9</td>\n",
       "      <td>8.5</td>\n",
       "      <td>7.5</td>\n",
       "      <td>64.8069</td>\n",
       "      <td>6903.6</td>\n",
       "    </tr>\n",
       "    <tr>\n",
       "      <th>4</th>\n",
       "      <td>1992-05-01</td>\n",
       "      <td>108653</td>\n",
       "      <td>89900</td>\n",
       "      <td>34.3</td>\n",
       "      <td>3119</td>\n",
       "      <td>18753</td>\n",
       "      <td>9744</td>\n",
       "      <td>57.7</td>\n",
       "      <td>10.3</td>\n",
       "      <td>12.8</td>\n",
       "      <td>44.9</td>\n",
       "      <td>2830.7</td>\n",
       "      <td>8.7</td>\n",
       "      <td>8.3</td>\n",
       "      <td>7.4</td>\n",
       "      <td>65.0202</td>\n",
       "      <td>6941.7</td>\n",
       "    </tr>\n",
       "  </tbody>\n",
       "</table>\n",
       "</div>"
      ],
      "text/plain": [
       "        DATE  PAYEMS  USPRIV  AWHNONAG  CES9091000001  USGOVT  UNEMPLOY  \\\n",
       "0 1992-01-01  108374   89686      34.1           3137   18688      9283   \n",
       "1 1992-02-01  108317   89628      34.1           3121   18689      9454   \n",
       "2 1992-03-01  108369   89654      34.1           3121   18715      9460   \n",
       "3 1992-04-01  108526   89787      34.3           3117   18739      9415   \n",
       "4 1992-05-01  108653   89900      34.3           3119   18753      9744   \n",
       "\n",
       "   LNS13023622  LNS13023706  LNS13023654  LNS13026511  MVPHGFD027MNFRBDAL  \\\n",
       "0         54.0         11.9         13.1         40.9              2719.3   \n",
       "1         57.0          9.8         13.6         43.3              2738.8   \n",
       "2         57.4          9.5         13.4         44.0              2760.5   \n",
       "3         57.3         10.4         13.6         43.8              2764.0   \n",
       "4         57.7         10.3         12.8         44.9              2830.7   \n",
       "\n",
       "   MORTGAGE30US  MORTGAGE15US  DGS10   INDPRO  W875RX1  \n",
       "0           8.4           8.0    7.0  63.3372   6840.9  \n",
       "1           8.8           8.4    7.3  63.7864   6879.1  \n",
       "2           8.9           8.6    7.5  64.3199   6884.7  \n",
       "3           8.9           8.5    7.5  64.8069   6903.6  \n",
       "4           8.7           8.3    7.4  65.0202   6941.7  "
      ]
     },
     "execution_count": 3,
     "metadata": {},
     "output_type": "execute_result"
    }
   ],
   "source": [
    "df = pd.read_csv(ffname, parse_dates=[\"DATE\"])\n",
    "df.DATE = pd.to_datetime(df.DATE, format=\"%Y-%m\")\n",
    "df.head()\n"
   ]
  },
  {
   "cell_type": "markdown",
   "metadata": {},
   "source": [
    "Make a clen copy of data. This allows us to modify freely while we have always the original data for any further reference."
   ]
  },
  {
   "cell_type": "code",
   "execution_count": 4,
   "metadata": {},
   "outputs": [],
   "source": [
    "df_original = df.copy() "
   ]
  },
  {
   "cell_type": "markdown",
   "metadata": {},
   "source": [
    "Reindex data frame per the time stamps"
   ]
  },
  {
   "cell_type": "code",
   "execution_count": 5,
   "metadata": {},
   "outputs": [
    {
     "data": {
      "text/html": [
       "<div>\n",
       "<style scoped>\n",
       "    .dataframe tbody tr th:only-of-type {\n",
       "        vertical-align: middle;\n",
       "    }\n",
       "\n",
       "    .dataframe tbody tr th {\n",
       "        vertical-align: top;\n",
       "    }\n",
       "\n",
       "    .dataframe thead th {\n",
       "        text-align: right;\n",
       "    }\n",
       "</style>\n",
       "<table border=\"1\" class=\"dataframe\">\n",
       "  <thead>\n",
       "    <tr style=\"text-align: right;\">\n",
       "      <th></th>\n",
       "      <th>PAYEMS</th>\n",
       "      <th>USPRIV</th>\n",
       "      <th>AWHNONAG</th>\n",
       "      <th>CES9091000001</th>\n",
       "      <th>USGOVT</th>\n",
       "      <th>UNEMPLOY</th>\n",
       "      <th>LNS13023622</th>\n",
       "      <th>LNS13023706</th>\n",
       "      <th>LNS13023654</th>\n",
       "      <th>LNS13026511</th>\n",
       "      <th>MVPHGFD027MNFRBDAL</th>\n",
       "      <th>MORTGAGE30US</th>\n",
       "      <th>MORTGAGE15US</th>\n",
       "      <th>DGS10</th>\n",
       "      <th>INDPRO</th>\n",
       "      <th>W875RX1</th>\n",
       "    </tr>\n",
       "    <tr>\n",
       "      <th>DATE</th>\n",
       "      <th></th>\n",
       "      <th></th>\n",
       "      <th></th>\n",
       "      <th></th>\n",
       "      <th></th>\n",
       "      <th></th>\n",
       "      <th></th>\n",
       "      <th></th>\n",
       "      <th></th>\n",
       "      <th></th>\n",
       "      <th></th>\n",
       "      <th></th>\n",
       "      <th></th>\n",
       "      <th></th>\n",
       "      <th></th>\n",
       "      <th></th>\n",
       "    </tr>\n",
       "  </thead>\n",
       "  <tbody>\n",
       "    <tr>\n",
       "      <th>1992-01-01</th>\n",
       "      <td>108374</td>\n",
       "      <td>89686</td>\n",
       "      <td>34.1</td>\n",
       "      <td>3137</td>\n",
       "      <td>18688</td>\n",
       "      <td>9283</td>\n",
       "      <td>54.0</td>\n",
       "      <td>11.9</td>\n",
       "      <td>13.1</td>\n",
       "      <td>40.9</td>\n",
       "      <td>2719.3</td>\n",
       "      <td>8.4</td>\n",
       "      <td>8.0</td>\n",
       "      <td>7.0</td>\n",
       "      <td>63.3372</td>\n",
       "      <td>6840.9</td>\n",
       "    </tr>\n",
       "    <tr>\n",
       "      <th>1992-02-01</th>\n",
       "      <td>108317</td>\n",
       "      <td>89628</td>\n",
       "      <td>34.1</td>\n",
       "      <td>3121</td>\n",
       "      <td>18689</td>\n",
       "      <td>9454</td>\n",
       "      <td>57.0</td>\n",
       "      <td>9.8</td>\n",
       "      <td>13.6</td>\n",
       "      <td>43.3</td>\n",
       "      <td>2738.8</td>\n",
       "      <td>8.8</td>\n",
       "      <td>8.4</td>\n",
       "      <td>7.3</td>\n",
       "      <td>63.7864</td>\n",
       "      <td>6879.1</td>\n",
       "    </tr>\n",
       "    <tr>\n",
       "      <th>1992-03-01</th>\n",
       "      <td>108369</td>\n",
       "      <td>89654</td>\n",
       "      <td>34.1</td>\n",
       "      <td>3121</td>\n",
       "      <td>18715</td>\n",
       "      <td>9460</td>\n",
       "      <td>57.4</td>\n",
       "      <td>9.5</td>\n",
       "      <td>13.4</td>\n",
       "      <td>44.0</td>\n",
       "      <td>2760.5</td>\n",
       "      <td>8.9</td>\n",
       "      <td>8.6</td>\n",
       "      <td>7.5</td>\n",
       "      <td>64.3199</td>\n",
       "      <td>6884.7</td>\n",
       "    </tr>\n",
       "    <tr>\n",
       "      <th>1992-04-01</th>\n",
       "      <td>108526</td>\n",
       "      <td>89787</td>\n",
       "      <td>34.3</td>\n",
       "      <td>3117</td>\n",
       "      <td>18739</td>\n",
       "      <td>9415</td>\n",
       "      <td>57.3</td>\n",
       "      <td>10.4</td>\n",
       "      <td>13.6</td>\n",
       "      <td>43.8</td>\n",
       "      <td>2764.0</td>\n",
       "      <td>8.9</td>\n",
       "      <td>8.5</td>\n",
       "      <td>7.5</td>\n",
       "      <td>64.8069</td>\n",
       "      <td>6903.6</td>\n",
       "    </tr>\n",
       "    <tr>\n",
       "      <th>1992-05-01</th>\n",
       "      <td>108653</td>\n",
       "      <td>89900</td>\n",
       "      <td>34.3</td>\n",
       "      <td>3119</td>\n",
       "      <td>18753</td>\n",
       "      <td>9744</td>\n",
       "      <td>57.7</td>\n",
       "      <td>10.3</td>\n",
       "      <td>12.8</td>\n",
       "      <td>44.9</td>\n",
       "      <td>2830.7</td>\n",
       "      <td>8.7</td>\n",
       "      <td>8.3</td>\n",
       "      <td>7.4</td>\n",
       "      <td>65.0202</td>\n",
       "      <td>6941.7</td>\n",
       "    </tr>\n",
       "  </tbody>\n",
       "</table>\n",
       "</div>"
      ],
      "text/plain": [
       "            PAYEMS  USPRIV  AWHNONAG  CES9091000001  USGOVT  UNEMPLOY  \\\n",
       "DATE                                                                    \n",
       "1992-01-01  108374   89686      34.1           3137   18688      9283   \n",
       "1992-02-01  108317   89628      34.1           3121   18689      9454   \n",
       "1992-03-01  108369   89654      34.1           3121   18715      9460   \n",
       "1992-04-01  108526   89787      34.3           3117   18739      9415   \n",
       "1992-05-01  108653   89900      34.3           3119   18753      9744   \n",
       "\n",
       "            LNS13023622  LNS13023706  LNS13023654  LNS13026511  \\\n",
       "DATE                                                             \n",
       "1992-01-01         54.0         11.9         13.1         40.9   \n",
       "1992-02-01         57.0          9.8         13.6         43.3   \n",
       "1992-03-01         57.4          9.5         13.4         44.0   \n",
       "1992-04-01         57.3         10.4         13.6         43.8   \n",
       "1992-05-01         57.7         10.3         12.8         44.9   \n",
       "\n",
       "            MVPHGFD027MNFRBDAL  MORTGAGE30US  MORTGAGE15US  DGS10   INDPRO  \\\n",
       "DATE                                                                         \n",
       "1992-01-01              2719.3           8.4           8.0    7.0  63.3372   \n",
       "1992-02-01              2738.8           8.8           8.4    7.3  63.7864   \n",
       "1992-03-01              2760.5           8.9           8.6    7.5  64.3199   \n",
       "1992-04-01              2764.0           8.9           8.5    7.5  64.8069   \n",
       "1992-05-01              2830.7           8.7           8.3    7.4  65.0202   \n",
       "\n",
       "            W875RX1  \n",
       "DATE                 \n",
       "1992-01-01   6840.9  \n",
       "1992-02-01   6879.1  \n",
       "1992-03-01   6884.7  \n",
       "1992-04-01   6903.6  \n",
       "1992-05-01   6941.7  "
      ]
     },
     "execution_count": 5,
     "metadata": {},
     "output_type": "execute_result"
    }
   ],
   "source": [
    "df.set_index(\"DATE\", inplace=True)\n",
    "df.head()"
   ]
  },
  {
   "cell_type": "code",
   "execution_count": 6,
   "metadata": {},
   "outputs": [],
   "source": [
    "# rescale data\n",
    "values = df.values\n",
    "values = values.astype(\"float32\")\n",
    "scaler = MinMaxScaler(feature_range=(0, 1))\n",
    "values_scaled = scaler.fit_transform(values)\n",
    "n_variables = values.shape[1]"
   ]
  },
  {
   "cell_type": "code",
   "execution_count": 7,
   "metadata": {},
   "outputs": [],
   "source": [
    "index_target = 15\n",
    "# set model parameters\n",
    "n_lags = 6\n",
    "n_sequences = 6\n",
    "n_train = int(values_scaled.shape[0] * 0.8)\n",
    "n_units = 30"
   ]
  },
  {
   "cell_type": "code",
   "execution_count": 25,
   "metadata": {},
   "outputs": [
    {
     "data": {
      "text/plain": [
       "(320, 16)"
      ]
     },
     "execution_count": 25,
     "metadata": {},
     "output_type": "execute_result"
    }
   ],
   "source": [
    "# set train parameters\n",
    "optimizer = \"adam\"\n",
    "loss = \"mse\"\n",
    "n_epochs = 5\n",
    "sz_batch = 5\n",
    "verbose = 1\n",
    "values_scaled.shape"
   ]
  },
  {
   "cell_type": "code",
   "execution_count": 26,
   "metadata": {},
   "outputs": [
    {
     "data": {
      "text/html": [
       "<div>\n",
       "<style scoped>\n",
       "    .dataframe tbody tr th:only-of-type {\n",
       "        vertical-align: middle;\n",
       "    }\n",
       "\n",
       "    .dataframe tbody tr th {\n",
       "        vertical-align: top;\n",
       "    }\n",
       "\n",
       "    .dataframe thead th {\n",
       "        text-align: right;\n",
       "    }\n",
       "</style>\n",
       "<table border=\"1\" class=\"dataframe\">\n",
       "  <thead>\n",
       "    <tr style=\"text-align: right;\">\n",
       "      <th></th>\n",
       "      <th>var1(t-6)</th>\n",
       "      <th>var2(t-6)</th>\n",
       "      <th>var3(t-6)</th>\n",
       "      <th>var4(t-6)</th>\n",
       "      <th>var5(t-6)</th>\n",
       "      <th>var6(t-6)</th>\n",
       "      <th>var7(t-6)</th>\n",
       "      <th>var8(t-6)</th>\n",
       "      <th>var9(t-6)</th>\n",
       "      <th>var10(t-6)</th>\n",
       "      <th>...</th>\n",
       "      <th>var7(t+5)</th>\n",
       "      <th>var8(t+5)</th>\n",
       "      <th>var9(t+5)</th>\n",
       "      <th>var10(t+5)</th>\n",
       "      <th>var11(t+5)</th>\n",
       "      <th>var12(t+5)</th>\n",
       "      <th>var13(t+5)</th>\n",
       "      <th>var14(t+5)</th>\n",
       "      <th>var15(t+5)</th>\n",
       "      <th>var16(t+5)</th>\n",
       "    </tr>\n",
       "  </thead>\n",
       "  <tbody>\n",
       "    <tr>\n",
       "      <th>6</th>\n",
       "      <td>0.001391</td>\n",
       "      <td>0.001554</td>\n",
       "      <td>0.6875</td>\n",
       "      <td>0.596821</td>\n",
       "      <td>0.000000</td>\n",
       "      <td>0.385169</td>\n",
       "      <td>0.510822</td>\n",
       "      <td>0.659794</td>\n",
       "      <td>0.532609</td>\n",
       "      <td>0.530686</td>\n",
       "      <td>...</td>\n",
       "      <td>0.515151</td>\n",
       "      <td>0.536083</td>\n",
       "      <td>0.456522</td>\n",
       "      <td>0.555957</td>\n",
       "      <td>0.025420</td>\n",
       "      <td>0.830508</td>\n",
       "      <td>0.819672</td>\n",
       "      <td>0.815385</td>\n",
       "      <td>0.065500</td>\n",
       "      <td>0.058172</td>\n",
       "    </tr>\n",
       "    <tr>\n",
       "      <th>7</th>\n",
       "      <td>0.000000</td>\n",
       "      <td>0.000000</td>\n",
       "      <td>0.6875</td>\n",
       "      <td>0.573699</td>\n",
       "      <td>0.000232</td>\n",
       "      <td>0.402492</td>\n",
       "      <td>0.640693</td>\n",
       "      <td>0.443299</td>\n",
       "      <td>0.586957</td>\n",
       "      <td>0.617328</td>\n",
       "      <td>...</td>\n",
       "      <td>0.493506</td>\n",
       "      <td>0.505155</td>\n",
       "      <td>0.304348</td>\n",
       "      <td>0.595668</td>\n",
       "      <td>0.028109</td>\n",
       "      <td>0.796610</td>\n",
       "      <td>0.786885</td>\n",
       "      <td>0.784615</td>\n",
       "      <td>0.071898</td>\n",
       "      <td>0.020870</td>\n",
       "    </tr>\n",
       "    <tr>\n",
       "      <th>8</th>\n",
       "      <td>0.001269</td>\n",
       "      <td>0.000697</td>\n",
       "      <td>0.6875</td>\n",
       "      <td>0.573699</td>\n",
       "      <td>0.006267</td>\n",
       "      <td>0.403100</td>\n",
       "      <td>0.658009</td>\n",
       "      <td>0.412371</td>\n",
       "      <td>0.565217</td>\n",
       "      <td>0.642599</td>\n",
       "      <td>...</td>\n",
       "      <td>0.458874</td>\n",
       "      <td>0.577320</td>\n",
       "      <td>0.369565</td>\n",
       "      <td>0.541516</td>\n",
       "      <td>0.033719</td>\n",
       "      <td>0.745763</td>\n",
       "      <td>0.737705</td>\n",
       "      <td>0.738462</td>\n",
       "      <td>0.078384</td>\n",
       "      <td>0.026726</td>\n",
       "    </tr>\n",
       "    <tr>\n",
       "      <th>9</th>\n",
       "      <td>0.005102</td>\n",
       "      <td>0.004261</td>\n",
       "      <td>0.8125</td>\n",
       "      <td>0.567919</td>\n",
       "      <td>0.011838</td>\n",
       "      <td>0.398541</td>\n",
       "      <td>0.653679</td>\n",
       "      <td>0.505155</td>\n",
       "      <td>0.586957</td>\n",
       "      <td>0.635379</td>\n",
       "      <td>...</td>\n",
       "      <td>0.558442</td>\n",
       "      <td>0.597938</td>\n",
       "      <td>0.456522</td>\n",
       "      <td>0.592058</td>\n",
       "      <td>0.036165</td>\n",
       "      <td>0.711864</td>\n",
       "      <td>0.704918</td>\n",
       "      <td>0.692308</td>\n",
       "      <td>0.076377</td>\n",
       "      <td>0.022677</td>\n",
       "    </tr>\n",
       "    <tr>\n",
       "      <th>10</th>\n",
       "      <td>0.008203</td>\n",
       "      <td>0.007290</td>\n",
       "      <td>0.8125</td>\n",
       "      <td>0.570809</td>\n",
       "      <td>0.015088</td>\n",
       "      <td>0.431871</td>\n",
       "      <td>0.670996</td>\n",
       "      <td>0.494845</td>\n",
       "      <td>0.500000</td>\n",
       "      <td>0.675090</td>\n",
       "      <td>...</td>\n",
       "      <td>0.554113</td>\n",
       "      <td>0.546392</td>\n",
       "      <td>0.413043</td>\n",
       "      <td>0.606498</td>\n",
       "      <td>0.036940</td>\n",
       "      <td>0.711864</td>\n",
       "      <td>0.704918</td>\n",
       "      <td>0.692308</td>\n",
       "      <td>0.081533</td>\n",
       "      <td>0.032433</td>\n",
       "    </tr>\n",
       "  </tbody>\n",
       "</table>\n",
       "<p>5 rows × 192 columns</p>\n",
       "</div>"
      ],
      "text/plain": [
       "    var1(t-6)  var2(t-6)  var3(t-6)  var4(t-6)  var5(t-6)  var6(t-6)  \\\n",
       "6    0.001391   0.001554     0.6875   0.596821   0.000000   0.385169   \n",
       "7    0.000000   0.000000     0.6875   0.573699   0.000232   0.402492   \n",
       "8    0.001269   0.000697     0.6875   0.573699   0.006267   0.403100   \n",
       "9    0.005102   0.004261     0.8125   0.567919   0.011838   0.398541   \n",
       "10   0.008203   0.007290     0.8125   0.570809   0.015088   0.431871   \n",
       "\n",
       "    var7(t-6)  var8(t-6)  var9(t-6)  var10(t-6)     ...      var7(t+5)  \\\n",
       "6    0.510822   0.659794   0.532609    0.530686     ...       0.515151   \n",
       "7    0.640693   0.443299   0.586957    0.617328     ...       0.493506   \n",
       "8    0.658009   0.412371   0.565217    0.642599     ...       0.458874   \n",
       "9    0.653679   0.505155   0.586957    0.635379     ...       0.558442   \n",
       "10   0.670996   0.494845   0.500000    0.675090     ...       0.554113   \n",
       "\n",
       "    var8(t+5)  var9(t+5)  var10(t+5)  var11(t+5)  var12(t+5)  var13(t+5)  \\\n",
       "6    0.536083   0.456522    0.555957    0.025420    0.830508    0.819672   \n",
       "7    0.505155   0.304348    0.595668    0.028109    0.796610    0.786885   \n",
       "8    0.577320   0.369565    0.541516    0.033719    0.745763    0.737705   \n",
       "9    0.597938   0.456522    0.592058    0.036165    0.711864    0.704918   \n",
       "10   0.546392   0.413043    0.606498    0.036940    0.711864    0.704918   \n",
       "\n",
       "    var14(t+5)  var15(t+5)  var16(t+5)  \n",
       "6     0.815385    0.065500    0.058172  \n",
       "7     0.784615    0.071898    0.020870  \n",
       "8     0.738462    0.078384    0.026726  \n",
       "9     0.692308    0.076377    0.022677  \n",
       "10    0.692308    0.081533    0.032433  \n",
       "\n",
       "[5 rows x 192 columns]"
      ]
     },
     "execution_count": 26,
     "metadata": {},
     "output_type": "execute_result"
    }
   ],
   "source": [
    "df_reframed = series_to_supervised(values_scaled, n_lags, n_sequences)\n",
    "df_reframed.head()\n",
    "# [print(elem) for elem in df_reframed.columns]"
   ]
  },
  {
   "cell_type": "code",
   "execution_count": 27,
   "metadata": {},
   "outputs": [
    {
     "name": "stdout",
     "output_type": "stream",
     "text": [
      "Train Inputs Shape: (256, 192)\n",
      "Valid Inputs Shape: (53, 192)\n"
     ]
    }
   ],
   "source": [
    "# create train/valid data\n",
    "# split into train and test sets\n",
    "values = df_reframed.values\n",
    "train_values, valid_values = values[:n_train, :], values[n_train:, :]\n",
    "print(f\"Train Inputs Shape: {train_values.shape}\")\n",
    "print(f\"Valid Inputs Shape: {valid_values.shape}\")"
   ]
  },
  {
   "cell_type": "code",
   "execution_count": 28,
   "metadata": {},
   "outputs": [],
   "source": [
    "# split into input and targets\n",
    "n_train, n_ = train_values.shape\n",
    "n_valid, n_ = valid_values.shape\n",
    "n_features = n_lags * n_variables\n"
   ]
  },
  {
   "cell_type": "code",
   "execution_count": 29,
   "metadata": {},
   "outputs": [
    {
     "name": "stdout",
     "output_type": "stream",
     "text": [
      "Train Inputs Shape: (256, 96), Train Targets Shape: (256, 6)\n",
      "Valid Inputs Shape: (53, 96), Valid Targets Shape: (53, 6)\n"
     ]
    }
   ],
   "source": [
    "x_train, y_train = train_values[:, 0:n_features], train_values[:, n_features+index_target:n_:n_variables]\n",
    "x_valid, y_valid = valid_values[:, 0:n_features], valid_values[:, n_features+index_target:n_:n_variables]\n",
    "print(f\"Train Inputs Shape: {x_train.shape}, Train Targets Shape: {y_train.shape}\")\n",
    "print(f\"Valid Inputs Shape: {x_valid.shape}, Valid Targets Shape: {y_valid.shape}\")"
   ]
  },
  {
   "cell_type": "code",
   "execution_count": 30,
   "metadata": {},
   "outputs": [
    {
     "name": "stdout",
     "output_type": "stream",
     "text": [
      "Train Inputs Shape: (256, 6, 16), Train Targets Shape: (256, 6)\n",
      "Valid Inputs Shape: (53, 6, 16), Valid Targets Shape: (53, 6)\n"
     ]
    }
   ],
   "source": [
    "# reshape data as required by ltsm\n",
    "x_train = x_train.reshape((n_train, n_lags, n_variables))\n",
    "x_valid = x_valid.reshape((n_valid, n_lags, n_variables))\n",
    "print(f\"Train Inputs Shape: {x_train.shape}, Train Targets Shape: {y_train.shape}\")\n",
    "print(f\"Valid Inputs Shape: {x_valid.shape}, Valid Targets Shape: {y_valid.shape}\")"
   ]
  },
  {
   "cell_type": "code",
   "execution_count": 31,
   "metadata": {},
   "outputs": [],
   "source": [
    "# build model\n",
    "model = Sequential()\n",
    "model.add(LSTM(n_units, input_shape=(n_lags, n_variables)))\n",
    "model.add(Dense(n_sequences))\n",
    "model.compile(loss=loss, optimizer=optimizer)"
   ]
  },
  {
   "cell_type": "code",
   "execution_count": 32,
   "metadata": {
    "scrolled": true
   },
   "outputs": [
    {
     "name": "stdout",
     "output_type": "stream",
     "text": [
      "Train on 256 samples, validate on 53 samples\n",
      "Epoch 1/5\n",
      "256/256 [==============================] - 1s 4ms/step - loss: 0.0296 - val_loss: 0.0218\n",
      "Epoch 2/5\n",
      "256/256 [==============================] - 0s 1ms/step - loss: 0.0895 - val_loss: 0.0217\n",
      "Epoch 3/5\n",
      "256/256 [==============================] - 0s 1ms/step - loss: 0.0221 - val_loss: 0.0137\n",
      "Epoch 4/5\n",
      "256/256 [==============================] - 0s 1ms/step - loss: 0.0026 - val_loss: 0.0109\n",
      "Epoch 5/5\n",
      "256/256 [==============================] - 0s 1ms/step - loss: 0.0020 - val_loss: 0.0086\n"
     ]
    }
   ],
   "source": [
    "# train model\n",
    "history = model.fit(x_train, y_train,\n",
    "                    epochs=n_epochs,\n",
    "                    batch_size=sz_batch,\n",
    "                    validation_data=(x_valid, y_valid),\n",
    "                    verbose=verbose,\n",
    "                    shuffle=False)"
   ]
  },
  {
   "cell_type": "code",
   "execution_count": 33,
   "metadata": {},
   "outputs": [
    {
     "data": {
      "image/png": "[encoded data removed]",
      "text/plain": [
       "<Figure size 864x504 with 1 Axes>"
      ]
     },
     "metadata": {
      "needs_background": "light"
     },
     "output_type": "display_data"
    }
   ],
   "source": [
    "# plot history\n",
    "figsize = (12, 7)\n",
    "titlefontsize = 20\n",
    "xtickfontsize = 15\n",
    "ytickfontsize = 15\n",
    "labelfontsize = 19\n",
    "legendfontsize = 19\n",
    "linewidth = 3\n",
    "fig = plt.figure(figsize=figsize)\n",
    "ax = fig.subplots(1, 1)\n",
    "ax.plot(np.arange(1, n_epochs+1), history.history['loss'],\n",
    "        \"-\",\n",
    "        linewidth=linewidth,\n",
    "        label='Train Loss')\n",
    "ax.plot(np.arange(1, n_epochs+1), history.history['val_loss'],\n",
    "        \"-\",\n",
    "        linewidth=linewidth,\n",
    "        label='Valid Loss')\n",
    "ax.set_xlabel(\"Epoch #\", fontsize=labelfontsize)\n",
    "ax.set_ylabel(\"Loss - \" + loss.upper(), fontsize=labelfontsize)\n",
    "ax.tick_params(\n",
    "    axis='x',          \n",
    "    which='both',      \n",
    "    labelsize=xtickfontsize)\n",
    "ax.tick_params(\n",
    "    axis='y',    \n",
    "    labelsize=ytickfontsize)\n",
    "ax.set_title(\"Train Loss \" +  f\"({loss})\".upper() + \" vs Epoch\",\n",
    "        fontsize=titlefontsize,\n",
    "        fontweight=\"bold\"\n",
    "    )\n",
    "ax.legend(loc=\"upper right\",\n",
    "          fontsize=legendfontsize,\n",
    "          framealpha=0.8,\n",
    "          fancybox=True,\n",
    "          frameon=True,\n",
    "          shadow=False,\n",
    "          edgecolor=\"k\")\n",
    "ax.set_xlim([0, n_epochs+1])\n",
    "plt.tight_layout()\n",
    "fname = f\"loss-plot-valid.png\"\n",
    "# fig.savefig(os.path.join(ROOT_DIR, \"reports\", \"figures\", fname), transparent=False, dpi=dpi)\n",
    "plt.show()"
   ]
  },
  {
   "cell_type": "code",
   "execution_count": 34,
   "metadata": {},
   "outputs": [
    {
     "data": {
      "text/plain": [
       "(53, 6)"
      ]
     },
     "execution_count": 34,
     "metadata": {},
     "output_type": "execute_result"
    }
   ],
   "source": [
    "# make a prediction\n",
    "yhat_valid = model.predict(x_valid)\n",
    "y_valid.shape"
   ]
  },
  {
   "cell_type": "code",
   "execution_count": 37,
   "metadata": {},
   "outputs": [
    {
     "data": {
      "text/plain": [
       "(53, 102)"
      ]
     },
     "execution_count": 37,
     "metadata": {},
     "output_type": "execute_result"
    }
   ],
   "source": [
    "# invert normalization/scaling for prediction on valid set\n",
    "x_valid_ = x_valid.reshape((n_valid, n_lags*n_variables))\n",
    "y_valid_ = y_valid.reshape((n_valid, n_sequences))\n",
    "xy_valid_ = np.concatenate((x_valid_, y_valid_), axis=1)\n",
    "xy_valid_.shape"
   ]
  },
  {
   "cell_type": "code",
   "execution_count": 35,
   "metadata": {},
   "outputs": [
    {
     "data": {
      "text/plain": [
       "(53, 16)"
      ]
     },
     "execution_count": 35,
     "metadata": {},
     "output_type": "execute_result"
    }
   ],
   "source": [
    "xyhat_valid = x_valid_[:, -n_variables:].copy()\n",
    "xyhat_valid.shape"
   ]
  },
  {
   "cell_type": "code",
   "execution_count": 19,
   "metadata": {},
   "outputs": [
    {
     "ename": "ValueError",
     "evalue": "shape mismatch: value array of shape (53,6) could not be broadcast to indexing result of shape (1,53)",
     "output_type": "error",
     "traceback": [
      "\u001b[0;31m---------------------------------------------------------------------------\u001b[0m",
      "\u001b[0;31mValueError\u001b[0m                                Traceback (most recent call last)",
      "\u001b[0;32m<ipython-input-19-698fd21242f0>\u001b[0m in \u001b[0;36m<module>\u001b[0;34m()\u001b[0m\n\u001b[1;32m      2\u001b[0m \u001b[0mx_valid_\u001b[0m \u001b[0;34m=\u001b[0m \u001b[0mx_valid\u001b[0m\u001b[0;34m.\u001b[0m\u001b[0mreshape\u001b[0m\u001b[0;34m(\u001b[0m\u001b[0;34m(\u001b[0m\u001b[0mn_valid\u001b[0m\u001b[0;34m,\u001b[0m \u001b[0mn_lags\u001b[0m\u001b[0;34m*\u001b[0m\u001b[0mn_variables\u001b[0m\u001b[0;34m)\u001b[0m\u001b[0;34m)\u001b[0m\u001b[0;34m\u001b[0m\u001b[0m\n\u001b[1;32m      3\u001b[0m \u001b[0mxyhat_valid\u001b[0m \u001b[0;34m=\u001b[0m \u001b[0mx_valid_\u001b[0m\u001b[0;34m[\u001b[0m\u001b[0;34m:\u001b[0m\u001b[0;34m,\u001b[0m \u001b[0;34m-\u001b[0m\u001b[0mn_variables\u001b[0m\u001b[0;34m:\u001b[0m\u001b[0;34m]\u001b[0m\u001b[0;34m.\u001b[0m\u001b[0mcopy\u001b[0m\u001b[0;34m(\u001b[0m\u001b[0;34m)\u001b[0m\u001b[0;34m\u001b[0m\u001b[0m\n\u001b[0;32m----> 4\u001b[0;31m \u001b[0mxyhat_valid\u001b[0m\u001b[0;34m[\u001b[0m\u001b[0;34m:\u001b[0m\u001b[0;34m,\u001b[0m\u001b[0;34m[\u001b[0m\u001b[0mindex_target\u001b[0m\u001b[0;34m]\u001b[0m\u001b[0;34m]\u001b[0m \u001b[0;34m=\u001b[0m \u001b[0myhat_valid\u001b[0m\u001b[0;34m\u001b[0m\u001b[0m\n\u001b[0m\u001b[1;32m      5\u001b[0m \u001b[0mxyhat_valid\u001b[0m \u001b[0;34m=\u001b[0m \u001b[0mscaler\u001b[0m\u001b[0;34m.\u001b[0m\u001b[0minverse_transform\u001b[0m\u001b[0;34m(\u001b[0m\u001b[0mxyhat_valid\u001b[0m\u001b[0;34m)\u001b[0m\u001b[0;34m\u001b[0m\u001b[0m\n",
      "\u001b[0;31mValueError\u001b[0m: shape mismatch: value array of shape (53,6) could not be broadcast to indexing result of shape (1,53)"
     ]
    }
   ],
   "source": [
    "xyhat_valid[:,[index_target]] = yhat_valid\n",
    "xyhat_valid = scaler.inverse_transform(xyhat_valid)"
   ]
  },
  {
   "cell_type": "code",
   "execution_count": 18,
   "metadata": {},
   "outputs": [
    {
     "ename": "ValueError",
     "evalue": "shape mismatch: value array of shape (53,6) could not be broadcast to indexing result of shape (1,53)",
     "output_type": "error",
     "traceback": [
      "\u001b[0;31m---------------------------------------------------------------------------\u001b[0m",
      "\u001b[0;31mValueError\u001b[0m                                Traceback (most recent call last)",
      "\u001b[0;32m<ipython-input-18-865ba345ec6e>\u001b[0m in \u001b[0;36m<module>\u001b[0;34m()\u001b[0m\n\u001b[1;32m      2\u001b[0m \u001b[0mx_valid_\u001b[0m \u001b[0;34m=\u001b[0m \u001b[0mx_valid\u001b[0m\u001b[0;34m.\u001b[0m\u001b[0mreshape\u001b[0m\u001b[0;34m(\u001b[0m\u001b[0;34m(\u001b[0m\u001b[0mn_valid\u001b[0m\u001b[0;34m,\u001b[0m \u001b[0mn_lags\u001b[0m\u001b[0;34m*\u001b[0m\u001b[0mn_variables\u001b[0m\u001b[0;34m)\u001b[0m\u001b[0;34m)\u001b[0m\u001b[0;34m\u001b[0m\u001b[0m\n\u001b[1;32m      3\u001b[0m \u001b[0mxyhat_valid\u001b[0m \u001b[0;34m=\u001b[0m \u001b[0mx_valid_\u001b[0m\u001b[0;34m[\u001b[0m\u001b[0;34m:\u001b[0m\u001b[0;34m,\u001b[0m \u001b[0;34m-\u001b[0m\u001b[0mn_variables\u001b[0m\u001b[0;34m:\u001b[0m\u001b[0;34m]\u001b[0m\u001b[0;34m.\u001b[0m\u001b[0mcopy\u001b[0m\u001b[0;34m(\u001b[0m\u001b[0;34m)\u001b[0m\u001b[0;34m\u001b[0m\u001b[0m\n\u001b[0;32m----> 4\u001b[0;31m \u001b[0mxyhat_valid\u001b[0m\u001b[0;34m[\u001b[0m\u001b[0;34m:\u001b[0m\u001b[0;34m,\u001b[0m\u001b[0;34m[\u001b[0m\u001b[0mindex_target\u001b[0m\u001b[0;34m]\u001b[0m\u001b[0;34m]\u001b[0m \u001b[0;34m=\u001b[0m \u001b[0myhat_valid\u001b[0m\u001b[0;34m\u001b[0m\u001b[0m\n\u001b[0m\u001b[1;32m      5\u001b[0m \u001b[0mxyhat_valid\u001b[0m \u001b[0;34m=\u001b[0m \u001b[0mscaler\u001b[0m\u001b[0;34m.\u001b[0m\u001b[0minverse_transform\u001b[0m\u001b[0;34m(\u001b[0m\u001b[0mxyhat_valid\u001b[0m\u001b[0;34m)\u001b[0m\u001b[0;34m\u001b[0m\u001b[0m\n\u001b[1;32m      6\u001b[0m \u001b[0;34m\u001b[0m\u001b[0m\n",
      "\u001b[0;31mValueError\u001b[0m: shape mismatch: value array of shape (53,6) could not be broadcast to indexing result of shape (1,53)"
     ]
    }
   ],
   "source": [
    "# invert normalization/scaling for input valid set\n",
    "x_valid_ = x_valid.reshape((n_valid, n_lags*n_variables))\n",
    "xy_valid = x_valid_[:, -n_variables:].copy()\n",
    "xy_valid[:,[index_target]] = y_valid\n",
    "xy_valid = scaler.inverse_transform(xy_valid)"
   ]
  },
  {
   "cell_type": "code",
   "execution_count": null,
   "metadata": {},
   "outputs": [],
   "source": []
  }
 ],
 "metadata": {
  "kernelspec": {
   "display_name": "Python [conda env:reb]",
   "language": "python",
   "name": "conda-env-reb-py"
  },
  "language_info": {
   "codemirror_mode": {
    "name": "ipython",
    "version": 3
   },
   "file_extension": ".py",
   "mimetype": "text/x-python",
   "name": "python",
   "nbconvert_exporter": "python",
   "pygments_lexer": "ipython3",
   "version": "3.6.6"
  }
 },
 "nbformat": 4,
 "nbformat_minor": 2
}
